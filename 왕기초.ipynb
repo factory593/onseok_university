{
 "cells": [
  {
   "cell_type": "code",
   "execution_count": 1,
   "id": "2a951a89",
   "metadata": {},
   "outputs": [
    {
     "name": "stdout",
     "output_type": "stream",
     "text": [
      "현재 작업 중인 폴더/디렉토리: /Users/choiyoungjun/Library/CloudStorage/OneDrive-개인/고급인공지능음악/미디파일-CSV\n"
     ]
    }
   ],
   "source": [
    "import os\n",
    "\n",
    "# 현재 작업 중인 폴더/디렉토리 경로를 가져옴\n",
    "current_dir = os.getcwd()\n",
    "\n",
    "print(\"현재 작업 중인 폴더/디렉토리:\", current_dir)\n"
   ]
  },
  {
   "cell_type": "markdown",
   "id": "954de70b",
   "metadata": {},
   "source": [
    "# 숫자, 숫자들"
   ]
  },
  {
   "cell_type": "code",
   "execution_count": 3,
   "id": "16087b1a",
   "metadata": {},
   "outputs": [],
   "source": [
    "notenumber=60"
   ]
  },
  {
   "cell_type": "code",
   "execution_count": 4,
   "id": "c7d111a9",
   "metadata": {},
   "outputs": [
    {
     "name": "stdout",
     "output_type": "stream",
     "text": [
      "60\n"
     ]
    }
   ],
   "source": [
    "print(notenumber)"
   ]
  },
  {
   "cell_type": "code",
   "execution_count": 5,
   "id": "dc3dbc20",
   "metadata": {},
   "outputs": [],
   "source": [
    "notelist=[60,61,62]"
   ]
  },
  {
   "cell_type": "code",
   "execution_count": 6,
   "id": "f66581fe",
   "metadata": {},
   "outputs": [
    {
     "data": {
      "text/plain": [
       "[60, 61, 62]"
      ]
     },
     "execution_count": 6,
     "metadata": {},
     "output_type": "execute_result"
    }
   ],
   "source": [
    "notelist"
   ]
  },
  {
   "cell_type": "code",
   "execution_count": 7,
   "id": "e8f2068f",
   "metadata": {},
   "outputs": [
    {
     "data": {
      "text/plain": [
       "60"
      ]
     },
     "execution_count": 7,
     "metadata": {},
     "output_type": "execute_result"
    }
   ],
   "source": [
    "notelist[0]"
   ]
  },
  {
   "cell_type": "code",
   "execution_count": 8,
   "id": "2a6526ea",
   "metadata": {},
   "outputs": [
    {
     "data": {
      "text/plain": [
       "61"
      ]
     },
     "execution_count": 8,
     "metadata": {},
     "output_type": "execute_result"
    }
   ],
   "source": [
    "notelist[1]"
   ]
  },
  {
   "cell_type": "code",
   "execution_count": 9,
   "id": "37f423d1",
   "metadata": {},
   "outputs": [
    {
     "data": {
      "text/plain": [
       "62"
      ]
     },
     "execution_count": 9,
     "metadata": {},
     "output_type": "execute_result"
    }
   ],
   "source": [
    "notelist[2]"
   ]
  },
  {
   "cell_type": "markdown",
   "id": "189e7b61",
   "metadata": {},
   "source": [
    "# 반복"
   ]
  },
  {
   "cell_type": "code",
   "execution_count": 11,
   "id": "14f9759b",
   "metadata": {},
   "outputs": [
    {
     "name": "stdout",
     "output_type": "stream",
     "text": [
      "0\n",
      "1\n",
      "2\n"
     ]
    }
   ],
   "source": [
    "#반복, iterate\n",
    "\n",
    "for i in range(3):\n",
    "    print(i)"
   ]
  },
  {
   "cell_type": "code",
   "execution_count": 12,
   "id": "1b214a96",
   "metadata": {},
   "outputs": [
    {
     "name": "stdout",
     "output_type": "stream",
     "text": [
      "60\n",
      "61\n",
      "62\n"
     ]
    }
   ],
   "source": [
    "for i in range(3):\n",
    "    print(notelist[i])"
   ]
  },
  {
   "cell_type": "code",
   "execution_count": 13,
   "id": "83341220",
   "metadata": {},
   "outputs": [],
   "source": [
    "filename=\"myfilename.mid\""
   ]
  },
  {
   "cell_type": "code",
   "execution_count": 14,
   "id": "cb3f5385",
   "metadata": {},
   "outputs": [
    {
     "name": "stdout",
     "output_type": "stream",
     "text": [
      "myfilename\n"
     ]
    }
   ],
   "source": [
    "print(filename[:-4])"
   ]
  },
  {
   "cell_type": "code",
   "execution_count": 15,
   "id": "75c4dc92",
   "metadata": {},
   "outputs": [
    {
     "name": "stdout",
     "output_type": "stream",
     "text": [
      "filename.mid\n"
     ]
    }
   ],
   "source": [
    "print(filename[2:])"
   ]
  },
  {
   "cell_type": "code",
   "execution_count": 18,
   "id": "34789f2a",
   "metadata": {},
   "outputs": [
    {
     "name": "stdout",
     "output_type": "stream",
     "text": [
      "file\n"
     ]
    }
   ],
   "source": [
    "print(filename[2:6])"
   ]
  },
  {
   "cell_type": "code",
   "execution_count": 20,
   "id": "798e9c37",
   "metadata": {},
   "outputs": [
    {
     "name": "stdout",
     "output_type": "stream",
     "text": [
      "myfilename.csv\n"
     ]
    }
   ],
   "source": [
    "print(filename[:-4]+\".csv\")"
   ]
  },
  {
   "cell_type": "code",
   "execution_count": 21,
   "id": "0737f01a",
   "metadata": {},
   "outputs": [],
   "source": [
    "names=('name1','name2')"
   ]
  },
  {
   "cell_type": "code",
   "execution_count": 22,
   "id": "d09fd6d4",
   "metadata": {},
   "outputs": [
    {
     "data": {
      "text/plain": [
       "'name1'"
      ]
     },
     "execution_count": 22,
     "metadata": {},
     "output_type": "execute_result"
    }
   ],
   "source": [
    "names[0]"
   ]
  },
  {
   "cell_type": "code",
   "execution_count": 23,
   "id": "f7324673",
   "metadata": {},
   "outputs": [
    {
     "data": {
      "text/plain": [
       "'name2'"
      ]
     },
     "execution_count": 23,
     "metadata": {},
     "output_type": "execute_result"
    }
   ],
   "source": [
    "names[1]"
   ]
  },
  {
   "cell_type": "code",
   "execution_count": 24,
   "id": "d6fa98d6",
   "metadata": {},
   "outputs": [
    {
     "name": "stdout",
     "output_type": "stream",
     "text": [
      "0\n",
      "1\n"
     ]
    }
   ],
   "source": [
    "for i in range(len(names)):\n",
    "    print(i)"
   ]
  },
  {
   "cell_type": "code",
   "execution_count": 25,
   "id": "72874a19",
   "metadata": {},
   "outputs": [
    {
     "name": "stdout",
     "output_type": "stream",
     "text": [
      "name1\n",
      "name2\n"
     ]
    }
   ],
   "source": [
    "for i in range(len(names)):\n",
    "    print(names[i])"
   ]
  },
  {
   "cell_type": "markdown",
   "id": "e4e43bca",
   "metadata": {},
   "source": [
    "# 그래프그리기"
   ]
  },
  {
   "cell_type": "code",
   "execution_count": 31,
   "id": "da53201e",
   "metadata": {},
   "outputs": [],
   "source": [
    "notelist = [60, 61, 62,60]"
   ]
  },
  {
   "cell_type": "code",
   "execution_count": 32,
   "id": "bfb357d5",
   "metadata": {},
   "outputs": [
    {
     "data": {
      "text/plain": [
       "[60, 61, 62, 60]"
      ]
     },
     "execution_count": 32,
     "metadata": {},
     "output_type": "execute_result"
    }
   ],
   "source": [
    "notelist"
   ]
  },
  {
   "cell_type": "code",
   "execution_count": 33,
   "id": "aa6b604f",
   "metadata": {},
   "outputs": [
    {
     "data": {
      "image/png": "[encoded data removed]",
      "text/plain": [
       "<Figure size 432x288 with 1 Axes>"
      ]
     },
     "metadata": {
      "needs_background": "light"
     },
     "output_type": "display_data"
    }
   ],
   "source": [
    "import matplotlib.pyplot as plt\n",
    "\n",
    "notelist = [60, 61, 62,60]  # 그래프로 그릴 값들\n",
    "\n",
    "# 그래프 그리기\n",
    "plt.plot(notelist, marker='o')  # 선 그래프에 점 찍기\n",
    "#plt.xlabel('Index')  # x축 레이블\n",
    "#plt.ylabel('Note Value')  # y축 레이블\n",
    "#plt.title('Note List')  # 그래프 제목\n",
    "#plt.grid(True)  # 그리드 표시\n",
    "plt.show()  # 그래프 출력\n"
   ]
  },
  {
   "cell_type": "code",
   "execution_count": 35,
   "id": "0ce2362b",
   "metadata": {},
   "outputs": [
    {
     "name": "stdout",
     "output_type": "stream",
     "text": [
      "   Note Value\n",
      "0          60\n",
      "1          61\n",
      "2          62\n",
      "3          60\n"
     ]
    }
   ],
   "source": [
    "import pandas as pd\n",
    "\n",
    "notelist = [60, 61, 62, 60]  # 데이터프레임으로 만들 값들\n",
    "\n",
    "# 데이터프레임 생성\n",
    "df = pd.DataFrame({'Note Value': notelist})  # 'Note Value'라는 컬럼명으로 데이터프레임 생성\n",
    "\n",
    "print(df)  # 데이터프레임 출력\n"
   ]
  },
  {
   "cell_type": "code",
   "execution_count": 40,
   "id": "f6a51996",
   "metadata": {},
   "outputs": [
    {
     "name": "stdout",
     "output_type": "stream",
     "text": [
      "['C5', 'C# (Db)5', 'D5', 'C5']\n"
     ]
    }
   ],
   "source": [
    "notelist = [60, 61, 62, 60]  # 미디 노트 넘버로 변환할 값들\n",
    "\n",
    "# 미디 노트 넘버를 옥타브와 음의 이름 인덱스로 분리하는 함수\n",
    "def get_octave_and_note_name(note_number):\n",
    "    octave = note_number // 12  # 미디 노트 넘버를 12로 나눈 몫은 옥타브 값\n",
    "    note_name_index = note_number % 12  # 미디 노트 넘버를 12로 나눈 나머지는 음의 이름 인덱스\n",
    "    return octave, note_name_index\n",
    "\n",
    "# 음의 이름 인덱스를 음의 이름으로 변환하는 함수\n",
    "def get_note_name(note_name_index):\n",
    "    notes = ['C', 'C# (Db)', 'D', 'D# (Eb)', 'E', 'F', 'F# (Gb)', 'G', 'G# (Ab)', 'A', 'A# (Bb)', 'B']\n",
    "    return notes[note_name_index]\n",
    "\n",
    "# notelist의 값들을 미디 노트 넘버와 옥타브를 포함한 음의 이름으로 변환\n",
    "note_names_with_octave = []\n",
    "for note_number in notelist:\n",
    "    octave, note_name_index = get_octave_and_note_name(note_number)\n",
    "    note_name = get_note_name(note_name_index)\n",
    "    note_name_with_octave = f\"{note_name}{octave}\"  # 음의 이름과 옥타브를 조합\n",
    "    note_names_with_octave.append(note_name_with_octave)\n",
    "\n",
    "print(note_names_with_octave)  # 옥타브를 포함한 음의 이름으로 변환된 리스트 출력\n"
   ]
  },
  {
   "cell_type": "code",
   "execution_count": 41,
   "id": "53a4e9f9",
   "metadata": {},
   "outputs": [
    {
     "name": "stdout",
     "output_type": "stream",
     "text": [
      "   note note_name_with_octave\n",
      "0    60                    C5\n",
      "1    61              C# (Db)5\n",
      "2    62                    D5\n",
      "3    60                    C5\n"
     ]
    }
   ],
   "source": [
    "import pandas as pd\n",
    "\n",
    "notelist = [60, 61, 62, 60]  # 미디 노트 넘버로 변환할 값들\n",
    "\n",
    "# 미디 노트 넘버를 옥타브와 음의 이름 인덱스로 분리하는 함수\n",
    "def get_octave_and_note_name(note_number):\n",
    "    octave = note_number // 12  # 미디 노트 넘버를 12로 나눈 몫은 옥타브 값\n",
    "    note_name_index = note_number % 12  # 미디 노트 넘버를 12로 나눈 나머지는 음의 이름 인덱스\n",
    "    return octave, note_name_index\n",
    "\n",
    "# 음의 이름 인덱스를 음의 이름으로 변환하는 함수\n",
    "def get_note_name(note_name_index):\n",
    "    notes = ['C', 'C# (Db)', 'D', 'D# (Eb)', 'E', 'F', 'F# (Gb)', 'G', 'G# (Ab)', 'A', 'A# (Bb)', 'B']\n",
    "    return notes[note_name_index]\n",
    "\n",
    "# notelist의 값들을 미디 노트 넘버와 옥타브를 포함한 음의 이름으로 변환하여 데이터 프레임 생성\n",
    "note_names_with_octave = []\n",
    "for note_number in notelist:\n",
    "    octave, note_name_index = get_octave_and_note_name(note_number)\n",
    "    note_name = get_note_name(note_name_index)\n",
    "    note_name_with_octave = f\"{note_name}{octave}\"  # 음의 이름과 옥타브를 조합\n",
    "    note_names_with_octave.append(note_name_with_octave)\n",
    "\n",
    "# 데이터 프레임 생성\n",
    "df = pd.DataFrame({'note': notelist, 'note_name_with_octave': note_names_with_octave})\n",
    "\n",
    "print(df)  # 생성된 데이터 프레임 출력\n"
   ]
  },
  {
   "cell_type": "code",
   "execution_count": 42,
   "id": "e3d05fa8",
   "metadata": {},
   "outputs": [],
   "source": [
    "# 데이터 프레임을 CSV 파일로 저장\n",
    "df.to_csv('notelist_with_note_names.csv', index=False)"
   ]
  }
 ],
 "metadata": {
  "kernelspec": {
   "display_name": "Python 3 (ipykernel)",
   "language": "python",
   "name": "python3"
  },
  "language_info": {
   "codemirror_mode": {
    "name": "ipython",
    "version": 3
   },
   "file_extension": ".py",
   "mimetype": "text/x-python",
   "name": "python",
   "nbconvert_exporter": "python",
   "pygments_lexer": "ipython3",
   "version": "3.9.12"
  }
 },
 "nbformat": 4,
 "nbformat_minor": 5
}
